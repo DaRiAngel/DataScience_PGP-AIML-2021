{
 "cells": [
  {
   "cell_type": "markdown",
   "id": "7199a122",
   "metadata": {},
   "source": [
    "# AllLife Credit Card Customer Segmentation"
   ]
  },
  {
   "cell_type": "markdown",
   "id": "cc352b52",
   "metadata": {},
   "source": [
    "**Problem:** Marketing team proposes to run personalised campaigns to target new customers as well as upsell to existing customers. Another insight from the market research was that the customers perceive the support services of the back poorly. Based on this, the Operations team wants to upgrade the service delivery model, to ensure that customers queries are resolved faster.\n",
    "\n",
    "**Objective:** To identify different segments in the existing customer based on their spending patterns as well as past interaction with the bank.\n",
    "\n",
    "**Key Questions:**\n",
    "1. How many different segments of customers are there?\n",
    "2. How are these segments different from each other?\n",
    "3. What are your recommendations to the bank on how to better market to and service these customers?\n",
    "\n",
    "### Data Dictionary\n",
    " - **Customer key** - Identifier for the customer\n",
    " - **Average Credit Limit** - Average credit limit across all the credit cards\n",
    " - **Total credit cards** - Total number of credit cards\n",
    " - **Total visits bank** - Total number of bank visits\n",
    " - **Total visits online** - total number of online visits\n",
    " - **Total calls made** - Total number of calls made by the customer"
   ]
  },
  {
   "cell_type": "code",
   "execution_count": 1,
   "id": "dd646d4e",
   "metadata": {},
   "outputs": [],
   "source": [
    "import numpy as np\n",
    "import pandas as pd\n",
    "\n",
    "import seaborn as sns\n",
    "import matplotlib.pyplot as plt\n",
    "%matplotlib inline\n",
    "\n",
    "import warnings\n",
    "warnings.filterwarnings('ignore')"
   ]
  },
  {
   "cell_type": "code",
   "execution_count": 2,
   "id": "0be4591e",
   "metadata": {},
   "outputs": [],
   "source": [
    "from sklearn.preprocessing import StandardScaler\n",
    "\n",
    "from sklearn.cluster import KMeans\n",
    "from sklearn.metrics import silhouette_score\n",
    "\n",
    "from yellowbrick.cluster import KElbowVisualizer, SilhouetteVisualizer"
   ]
  },
  {
   "cell_type": "markdown",
   "id": "265d0a56",
   "metadata": {},
   "source": [
    "## Data read & Scope the Data"
   ]
  },
  {
   "cell_type": "code",
   "execution_count": 3,
   "id": "634c1d2d",
   "metadata": {
    "scrolled": true
   },
   "outputs": [
    {
     "data": {
      "text/html": [
       "<div>\n",
       "<style scoped>\n",
       "    .dataframe tbody tr th:only-of-type {\n",
       "        vertical-align: middle;\n",
       "    }\n",
       "\n",
       "    .dataframe tbody tr th {\n",
       "        vertical-align: top;\n",
       "    }\n",
       "\n",
       "    .dataframe thead th {\n",
       "        text-align: right;\n",
       "    }\n",
       "</style>\n",
       "<table border=\"1\" class=\"dataframe\">\n",
       "  <thead>\n",
       "    <tr style=\"text-align: right;\">\n",
       "      <th></th>\n",
       "      <th>0</th>\n",
       "      <th>1</th>\n",
       "      <th>2</th>\n",
       "      <th>3</th>\n",
       "      <th>4</th>\n",
       "      <th>5</th>\n",
       "      <th>6</th>\n",
       "      <th>7</th>\n",
       "      <th>8</th>\n",
       "      <th>9</th>\n",
       "      <th>10</th>\n",
       "      <th>11</th>\n",
       "      <th>12</th>\n",
       "      <th>13</th>\n",
       "      <th>14</th>\n",
       "      <th>15</th>\n",
       "      <th>16</th>\n",
       "    </tr>\n",
       "  </thead>\n",
       "  <tbody>\n",
       "    <tr>\n",
       "      <th>Sl_No</th>\n",
       "      <td>1</td>\n",
       "      <td>2</td>\n",
       "      <td>3</td>\n",
       "      <td>4</td>\n",
       "      <td>5</td>\n",
       "      <td>6</td>\n",
       "      <td>7</td>\n",
       "      <td>8</td>\n",
       "      <td>9</td>\n",
       "      <td>10</td>\n",
       "      <td>11</td>\n",
       "      <td>12</td>\n",
       "      <td>13</td>\n",
       "      <td>14</td>\n",
       "      <td>15</td>\n",
       "      <td>16</td>\n",
       "      <td>17</td>\n",
       "    </tr>\n",
       "    <tr>\n",
       "      <th>Customer Key</th>\n",
       "      <td>87073</td>\n",
       "      <td>38414</td>\n",
       "      <td>17341</td>\n",
       "      <td>40496</td>\n",
       "      <td>47437</td>\n",
       "      <td>58634</td>\n",
       "      <td>48370</td>\n",
       "      <td>37376</td>\n",
       "      <td>82490</td>\n",
       "      <td>44770</td>\n",
       "      <td>52741</td>\n",
       "      <td>52326</td>\n",
       "      <td>92503</td>\n",
       "      <td>25084</td>\n",
       "      <td>68517</td>\n",
       "      <td>55196</td>\n",
       "      <td>62617</td>\n",
       "    </tr>\n",
       "    <tr>\n",
       "      <th>Avg_Credit_Limit</th>\n",
       "      <td>100000</td>\n",
       "      <td>50000</td>\n",
       "      <td>50000</td>\n",
       "      <td>30000</td>\n",
       "      <td>100000</td>\n",
       "      <td>20000</td>\n",
       "      <td>100000</td>\n",
       "      <td>15000</td>\n",
       "      <td>5000</td>\n",
       "      <td>3000</td>\n",
       "      <td>10000</td>\n",
       "      <td>13000</td>\n",
       "      <td>11000</td>\n",
       "      <td>9000</td>\n",
       "      <td>6000</td>\n",
       "      <td>8000</td>\n",
       "      <td>15000</td>\n",
       "    </tr>\n",
       "    <tr>\n",
       "      <th>Total_Credit_Cards</th>\n",
       "      <td>2</td>\n",
       "      <td>3</td>\n",
       "      <td>7</td>\n",
       "      <td>5</td>\n",
       "      <td>6</td>\n",
       "      <td>3</td>\n",
       "      <td>5</td>\n",
       "      <td>3</td>\n",
       "      <td>2</td>\n",
       "      <td>4</td>\n",
       "      <td>4</td>\n",
       "      <td>3</td>\n",
       "      <td>1</td>\n",
       "      <td>1</td>\n",
       "      <td>2</td>\n",
       "      <td>2</td>\n",
       "      <td>2</td>\n",
       "    </tr>\n",
       "    <tr>\n",
       "      <th>Total_visits_bank</th>\n",
       "      <td>1</td>\n",
       "      <td>0</td>\n",
       "      <td>1</td>\n",
       "      <td>1</td>\n",
       "      <td>0</td>\n",
       "      <td>0</td>\n",
       "      <td>0</td>\n",
       "      <td>0</td>\n",
       "      <td>0</td>\n",
       "      <td>0</td>\n",
       "      <td>0</td>\n",
       "      <td>0</td>\n",
       "      <td>2</td>\n",
       "      <td>1</td>\n",
       "      <td>2</td>\n",
       "      <td>0</td>\n",
       "      <td>1</td>\n",
       "    </tr>\n",
       "    <tr>\n",
       "      <th>Total_visits_online</th>\n",
       "      <td>1</td>\n",
       "      <td>10</td>\n",
       "      <td>3</td>\n",
       "      <td>1</td>\n",
       "      <td>12</td>\n",
       "      <td>1</td>\n",
       "      <td>11</td>\n",
       "      <td>1</td>\n",
       "      <td>2</td>\n",
       "      <td>1</td>\n",
       "      <td>5</td>\n",
       "      <td>2</td>\n",
       "      <td>5</td>\n",
       "      <td>5</td>\n",
       "      <td>4</td>\n",
       "      <td>5</td>\n",
       "      <td>2</td>\n",
       "    </tr>\n",
       "    <tr>\n",
       "      <th>Total_calls_made</th>\n",
       "      <td>0</td>\n",
       "      <td>9</td>\n",
       "      <td>4</td>\n",
       "      <td>4</td>\n",
       "      <td>3</td>\n",
       "      <td>8</td>\n",
       "      <td>2</td>\n",
       "      <td>1</td>\n",
       "      <td>2</td>\n",
       "      <td>7</td>\n",
       "      <td>5</td>\n",
       "      <td>7</td>\n",
       "      <td>9</td>\n",
       "      <td>6</td>\n",
       "      <td>6</td>\n",
       "      <td>7</td>\n",
       "      <td>4</td>\n",
       "    </tr>\n",
       "  </tbody>\n",
       "</table>\n",
       "</div>"
      ],
      "text/plain": [
       "                         0      1      2      3       4      5       6   \\\n",
       "Sl_No                     1      2      3      4       5      6       7   \n",
       "Customer Key          87073  38414  17341  40496   47437  58634   48370   \n",
       "Avg_Credit_Limit     100000  50000  50000  30000  100000  20000  100000   \n",
       "Total_Credit_Cards        2      3      7      5       6      3       5   \n",
       "Total_visits_bank         1      0      1      1       0      0       0   \n",
       "Total_visits_online       1     10      3      1      12      1      11   \n",
       "Total_calls_made          0      9      4      4       3      8       2   \n",
       "\n",
       "                        7      8      9      10     11     12     13     14  \\\n",
       "Sl_No                    8      9     10     11     12     13     14     15   \n",
       "Customer Key         37376  82490  44770  52741  52326  92503  25084  68517   \n",
       "Avg_Credit_Limit     15000   5000   3000  10000  13000  11000   9000   6000   \n",
       "Total_Credit_Cards       3      2      4      4      3      1      1      2   \n",
       "Total_visits_bank        0      0      0      0      0      2      1      2   \n",
       "Total_visits_online      1      2      1      5      2      5      5      4   \n",
       "Total_calls_made         1      2      7      5      7      9      6      6   \n",
       "\n",
       "                        15     16  \n",
       "Sl_No                   16     17  \n",
       "Customer Key         55196  62617  \n",
       "Avg_Credit_Limit      8000  15000  \n",
       "Total_Credit_Cards       2      2  \n",
       "Total_visits_bank        0      1  \n",
       "Total_visits_online      5      2  \n",
       "Total_calls_made         7      4  "
      ]
     },
     "execution_count": 3,
     "metadata": {},
     "output_type": "execute_result"
    }
   ],
   "source": [
    "myData_raw = pd.read_excel(\"Credit Card Customer Data.xlsx\")\n",
    "myData_raw.head(17).T"
   ]
  },
  {
   "cell_type": "code",
   "execution_count": 4,
   "id": "b2b2adfb",
   "metadata": {
    "scrolled": true
   },
   "outputs": [
    {
     "data": {
      "text/plain": [
       "3300"
      ]
     },
     "execution_count": 4,
     "metadata": {},
     "output_type": "execute_result"
    }
   ],
   "source": [
    "myData_raw.iloc[:,2:].size"
   ]
  },
  {
   "cell_type": "code",
   "execution_count": 5,
   "id": "d9011b63",
   "metadata": {},
   "outputs": [
    {
     "data": {
      "text/plain": [
       "0"
      ]
     },
     "execution_count": 5,
     "metadata": {},
     "output_type": "execute_result"
    }
   ],
   "source": [
    "myData_raw.duplicated().sum()\n",
    "# Duplicates need to be done before dropping any rows"
   ]
  },
  {
   "cell_type": "code",
   "execution_count": 6,
   "id": "e87af7be",
   "metadata": {
    "scrolled": false
   },
   "outputs": [
    {
     "data": {
      "text/plain": [
       "Sl_No                  0\n",
       "Customer Key           0\n",
       "Avg_Credit_Limit       0\n",
       "Total_Credit_Cards     0\n",
       "Total_visits_bank      0\n",
       "Total_visits_online    0\n",
       "Total_calls_made       0\n",
       "dtype: int64"
      ]
     },
     "execution_count": 6,
     "metadata": {},
     "output_type": "execute_result"
    }
   ],
   "source": [
    "myData_raw.isna().sum()\n",
    "# Confirmation, no null values"
   ]
  },
  {
   "cell_type": "code",
   "execution_count": 7,
   "id": "fb76dd0d",
   "metadata": {},
   "outputs": [
    {
     "name": "stdout",
     "output_type": "stream",
     "text": [
      "<class 'pandas.core.frame.DataFrame'>\n",
      "RangeIndex: 660 entries, 0 to 659\n",
      "Data columns (total 7 columns):\n",
      " #   Column               Non-Null Count  Dtype\n",
      "---  ------               --------------  -----\n",
      " 0   Sl_No                660 non-null    int64\n",
      " 1   Customer Key         660 non-null    int64\n",
      " 2   Avg_Credit_Limit     660 non-null    int64\n",
      " 3   Total_Credit_Cards   660 non-null    int64\n",
      " 4   Total_visits_bank    660 non-null    int64\n",
      " 5   Total_visits_online  660 non-null    int64\n",
      " 6   Total_calls_made     660 non-null    int64\n",
      "dtypes: int64(7)\n",
      "memory usage: 36.2 KB\n"
     ]
    }
   ],
   "source": [
    "myData_raw.info()"
   ]
  },
  {
   "cell_type": "markdown",
   "id": "740c576f",
   "metadata": {},
   "source": [
    "### Observations\n",
    " - All 7 columns are numerical \n",
    "     - Sl_No & Customer Key are of not statistically significant and shoul be dropped\n",
    "     - 660 observations across the 5 valuable features\n",
    "     - There will be 3300 data points after the data drop\n",
    " - No duplicate records\n",
    " - No Null Values"
   ]
  },
  {
   "cell_type": "code",
   "execution_count": 8,
   "id": "a5318eef",
   "metadata": {},
   "outputs": [],
   "source": [
    "myData_raw.drop(['Sl_No','Customer Key'],axis=1,inplace=True)\n",
    "# Dropping SI_NO & Customer Key they are not be useful for statistical analysis"
   ]
  },
  {
   "cell_type": "code",
   "execution_count": 9,
   "id": "348feab9",
   "metadata": {
    "scrolled": true
   },
   "outputs": [
    {
     "data": {
      "text/plain": [
       "Index(['Avg_Credit_Limit', 'Total_Credit_Cards', 'Total_visits_bank',\n",
       "       'Total_visits_online', 'Total_calls_made'],\n",
       "      dtype='object')"
      ]
     },
     "execution_count": 9,
     "metadata": {},
     "output_type": "execute_result"
    }
   ],
   "source": [
    "myData_raw.columns\n",
    "# Verified dropped"
   ]
  },
  {
   "cell_type": "code",
   "execution_count": 10,
   "id": "2e876a7d",
   "metadata": {},
   "outputs": [
    {
     "data": {
      "text/html": [
       "<div>\n",
       "<style scoped>\n",
       "    .dataframe tbody tr th:only-of-type {\n",
       "        vertical-align: middle;\n",
       "    }\n",
       "\n",
       "    .dataframe tbody tr th {\n",
       "        vertical-align: top;\n",
       "    }\n",
       "\n",
       "    .dataframe thead th {\n",
       "        text-align: right;\n",
       "    }\n",
       "</style>\n",
       "<table border=\"1\" class=\"dataframe\">\n",
       "  <thead>\n",
       "    <tr style=\"text-align: right;\">\n",
       "      <th></th>\n",
       "      <th>Avg_Credit_Limit</th>\n",
       "      <th>Total_Credit_Cards</th>\n",
       "      <th>Total_visits_bank</th>\n",
       "      <th>Total_visits_online</th>\n",
       "      <th>Total_calls_made</th>\n",
       "    </tr>\n",
       "  </thead>\n",
       "  <tbody>\n",
       "    <tr>\n",
       "      <th>count</th>\n",
       "      <td>660.000000</td>\n",
       "      <td>660.000000</td>\n",
       "      <td>660.000000</td>\n",
       "      <td>660.000000</td>\n",
       "      <td>660.000000</td>\n",
       "    </tr>\n",
       "    <tr>\n",
       "      <th>mean</th>\n",
       "      <td>34574.242424</td>\n",
       "      <td>4.706061</td>\n",
       "      <td>2.403030</td>\n",
       "      <td>2.606061</td>\n",
       "      <td>3.583333</td>\n",
       "    </tr>\n",
       "    <tr>\n",
       "      <th>std</th>\n",
       "      <td>37625.487804</td>\n",
       "      <td>2.167835</td>\n",
       "      <td>1.631813</td>\n",
       "      <td>2.935724</td>\n",
       "      <td>2.865317</td>\n",
       "    </tr>\n",
       "    <tr>\n",
       "      <th>min</th>\n",
       "      <td>3000.000000</td>\n",
       "      <td>1.000000</td>\n",
       "      <td>0.000000</td>\n",
       "      <td>0.000000</td>\n",
       "      <td>0.000000</td>\n",
       "    </tr>\n",
       "    <tr>\n",
       "      <th>25%</th>\n",
       "      <td>10000.000000</td>\n",
       "      <td>3.000000</td>\n",
       "      <td>1.000000</td>\n",
       "      <td>1.000000</td>\n",
       "      <td>1.000000</td>\n",
       "    </tr>\n",
       "    <tr>\n",
       "      <th>50%</th>\n",
       "      <td>18000.000000</td>\n",
       "      <td>5.000000</td>\n",
       "      <td>2.000000</td>\n",
       "      <td>2.000000</td>\n",
       "      <td>3.000000</td>\n",
       "    </tr>\n",
       "    <tr>\n",
       "      <th>75%</th>\n",
       "      <td>48000.000000</td>\n",
       "      <td>6.000000</td>\n",
       "      <td>4.000000</td>\n",
       "      <td>4.000000</td>\n",
       "      <td>5.000000</td>\n",
       "    </tr>\n",
       "    <tr>\n",
       "      <th>max</th>\n",
       "      <td>200000.000000</td>\n",
       "      <td>10.000000</td>\n",
       "      <td>5.000000</td>\n",
       "      <td>15.000000</td>\n",
       "      <td>10.000000</td>\n",
       "    </tr>\n",
       "  </tbody>\n",
       "</table>\n",
       "</div>"
      ],
      "text/plain": [
       "       Avg_Credit_Limit  Total_Credit_Cards  Total_visits_bank  \\\n",
       "count        660.000000          660.000000         660.000000   \n",
       "mean       34574.242424            4.706061           2.403030   \n",
       "std        37625.487804            2.167835           1.631813   \n",
       "min         3000.000000            1.000000           0.000000   \n",
       "25%        10000.000000            3.000000           1.000000   \n",
       "50%        18000.000000            5.000000           2.000000   \n",
       "75%        48000.000000            6.000000           4.000000   \n",
       "max       200000.000000           10.000000           5.000000   \n",
       "\n",
       "       Total_visits_online  Total_calls_made  \n",
       "count           660.000000        660.000000  \n",
       "mean              2.606061          3.583333  \n",
       "std               2.935724          2.865317  \n",
       "min               0.000000          0.000000  \n",
       "25%               1.000000          1.000000  \n",
       "50%               2.000000          3.000000  \n",
       "75%               4.000000          5.000000  \n",
       "max              15.000000         10.000000  "
      ]
     },
     "execution_count": 10,
     "metadata": {},
     "output_type": "execute_result"
    }
   ],
   "source": [
    "myData_raw.describe()"
   ]
  },
  {
   "cell_type": "markdown",
   "id": "7fb73d49",
   "metadata": {},
   "source": [
    "#### Observations\n",
    "The columms can be interpreted in two categories: Atributes & Interactions/Behaviors.\n",
    "\n",
    "**Customer Attributes**\n",
    " - The median for Avg Credit Limit is 18k dollars\n",
    "     - The range is 3K to 200k which indicates a large variance and many possible outliers\n",
    " - Most customers have 4 creditcards, with a moderate standard deviation of about 2 with max at 10 (possible outliers)\n",
    "\n",
    "**Customer Interactions**\n",
    " - Total bank visits have a relative low standard deviation while Total visits online and Total calls made have a larger standard distribution, possibly indicating that most issues were resolve without having to visit the in person. There is not enough information. Having collected customer age/year of birth may have been a good data point to help clarify this.\n",
    "     - Most customers have made at least 2 online & in person visits with the max of 15 and 5, respectively.\n",
    "     - Most customers have made 3 calls with the max of 10 which may indicate frequest problems.\n",
    "\n",
    "Overall, there seems to be a large spread of customer contact across the three 'Customer Interaction' features."
   ]
  },
  {
   "cell_type": "markdown",
   "id": "2881c5b2",
   "metadata": {},
   "source": [
    "## Univariate Analysis"
   ]
  },
  {
   "cell_type": "code",
   "execution_count": 11,
   "id": "6e08eebd",
   "metadata": {},
   "outputs": [],
   "source": [
    "# ### Styling for visualizations\n",
    "sns.set_style('darkgrid')\n",
    "from matplotlib.pyplot import figure\n",
    "# to adjust sizing 14-inches width is ideal for fitting the notebook."
   ]
  },
  {
   "cell_type": "code",
   "execution_count": 12,
   "id": "c4d909dc",
   "metadata": {},
   "outputs": [],
   "source": [
    "cols=['Avg_Credit_Limit','Total_visits_online', 'Total_Credit_Cards', 'Total_visits_bank', 'Total_calls_made']\n",
    "# creating my preferred order for visualizations"
   ]
  },
  {
   "cell_type": "code",
   "execution_count": 13,
   "id": "c62c2855",
   "metadata": {
    "scrolled": false
   },
   "outputs": [
    {
     "data": {
      "image/png": "[encoded data removed]",
      "text/plain": [
       "<Figure size 1120x320 with 1 Axes>"
      ]
     },
     "metadata": {},
     "output_type": "display_data"
    },
    {
     "data": {
      "image/png": "[encoded data removed]",
      "text/plain": [
       "<Figure size 1120x320 with 1 Axes>"
      ]
     },
     "metadata": {},
     "output_type": "display_data"
    }
   ],
   "source": [
    "for i in range(2):\n",
    "    figure(figsize=(14, 4), dpi=80)\n",
    "    sns.boxplot(x=myData_raw[cols[i]])\n",
    "    plt.show()\n",
    "# Cycle through first two on my list with ouliers"
   ]
  },
  {
   "cell_type": "code",
   "execution_count": 14,
   "id": "6d85ac7f",
   "metadata": {
    "scrolled": false
   },
   "outputs": [
    {
     "data": {
      "image/png": "[encoded data removed]",
      "text/plain": [
       "<Figure size 1120x320 with 1 Axes>"
      ]
     },
     "metadata": {},
     "output_type": "display_data"
    },
    {
     "data": {
      "image/png": "[encoded data removed]",
      "text/plain": [
       "<Figure size 1120x320 with 1 Axes>"
      ]
     },
     "metadata": {},
     "output_type": "display_data"
    },
    {
     "data": {
      "image/png": "[encoded data removed]",
      "text/plain": [
       "<Figure size 1120x320 with 1 Axes>"
      ]
     },
     "metadata": {},
     "output_type": "display_data"
    }
   ],
   "source": [
    "for i in range(5):\n",
    "    if(i>1):\n",
    "        figure(figsize=(14, 4), dpi=80)\n",
    "        sns.boxplot(x=myData_raw[cols[i]])\n",
    "        plt.show()\n",
    "# Cycle through the rest on my list with ouliers"
   ]
  },
  {
   "cell_type": "markdown",
   "id": "09382981",
   "metadata": {},
   "source": [
    "### Observations\n",
    "**Client Attributes**\n",
    "- There are upper outliers in the Average Credit Limit, there are many clients with very high credit scores.\n",
    "- Majority of the people were above the median for Average Credit Limit. There may be a cluster for Average Credit Limit where we see the outliers as well as in 75th percentile and the 25th percentile. Possibly related to the amount of credit cards.\n",
    "- Maximum credit cards were 10 which seems like a lot and may be a potential driver for interactions.\n",
    "\n",
    "**Customer Interactions**\n",
    "- There are upper outliers in the Total Visits Online above 8 vists.\n",
    "- Total Vistits Online also had a large amount of people in the 75th percentile.\n",
    "- Number of visits to the bank are between 2 and 4.\n",
    "- Majority of the Total calls made by customers were 5 and below."
   ]
  },
  {
   "cell_type": "code",
   "execution_count": 15,
   "id": "c04ab26e",
   "metadata": {},
   "outputs": [
    {
     "data": {
      "image/png": "[encoded data removed]",
      "text/plain": [
       "<Figure size 1120x320 with 1 Axes>"
      ]
     },
     "metadata": {},
     "output_type": "display_data"
    },
    {
     "data": {
      "image/png": "[encoded data removed]",
      "text/plain": [
       "<Figure size 1120x320 with 1 Axes>"
      ]
     },
     "metadata": {},
     "output_type": "display_data"
    }
   ],
   "source": [
    "for i in range(2):\n",
    "    figure(figsize=(14, 4), dpi=80)\n",
    "    sns.histplot(myData_raw[cols[i]] )\n",
    "    plt.show()"
   ]
  },
  {
   "cell_type": "code",
   "execution_count": 16,
   "id": "89f8c094",
   "metadata": {
    "scrolled": false
   },
   "outputs": [
    {
     "data": {
      "image/png": "[encoded data removed]",
      "text/plain": [
       "<Figure size 800x160 with 1 Axes>"
      ]
     },
     "metadata": {},
     "output_type": "display_data"
    },
    {
     "data": {
      "image/png": "[encoded data removed]",
      "text/plain": [
       "<Figure size 800x160 with 1 Axes>"
      ]
     },
     "metadata": {},
     "output_type": "display_data"
    },
    {
     "data": {
      "image/png": "[encoded data removed]",
      "text/plain": [
       "<Figure size 800x160 with 1 Axes>"
      ]
     },
     "metadata": {},
     "output_type": "display_data"
    }
   ],
   "source": [
    "for i in range(5):\n",
    "    if(i>1):\n",
    "        figure(figsize=(10, 2), dpi=80)\n",
    "        sns.countplot(myData_raw[cols[i]])\n",
    "        plt.show()\n",
    "# using a smaller size since these features are lower in spread and are more categorical in nature"
   ]
  },
  {
   "cell_type": "markdown",
   "id": "ef97610d",
   "metadata": {},
   "source": [
    "### Observations\n",
    "- Average Credit Limit appears to have a long-right-tail distribution. Looking at this distribution I predict 3 or more clusters seems like might be the right amount of clusters.\n",
    "\n",
    "- Total Online Visis also seems to have a long-right-tail distribution.\n",
    "- Total Credit Cards has a shorter right-tail distribution.\n",
    "- Total Bank Visits seems to be normaly distributed with some emphasis on two vists.\n",
    "- Total calls made has a sharp drop between 4 and 5 calls with a right-tailed distribution indicated many clients had to make calls compared to the no calls made."
   ]
  },
  {
   "cell_type": "markdown",
   "id": "bec2de27",
   "metadata": {},
   "source": [
    "## Data Treatment for Modeling"
   ]
  },
  {
   "cell_type": "code",
   "execution_count": 17,
   "id": "e8a8cd6f",
   "metadata": {},
   "outputs": [],
   "source": [
    "scalerObject = StandardScaler()\n",
    "# Model instantiation"
   ]
  },
  {
   "cell_type": "code",
   "execution_count": 18,
   "id": "8b2abe08",
   "metadata": {},
   "outputs": [],
   "source": [
    "subset = myData_raw.copy()\n",
    "# data copied"
   ]
  },
  {
   "cell_type": "code",
   "execution_count": 19,
   "id": "aab2cc33",
   "metadata": {},
   "outputs": [],
   "source": [
    "scaledData = scalerObject.fit_transform(myData_raw)\n",
    "#  Fitting the StandardScaler object"
   ]
  },
  {
   "cell_type": "code",
   "execution_count": 20,
   "id": "780c9d1c",
   "metadata": {},
   "outputs": [
    {
     "data": {
      "text/html": [
       "<div>\n",
       "<style scoped>\n",
       "    .dataframe tbody tr th:only-of-type {\n",
       "        vertical-align: middle;\n",
       "    }\n",
       "\n",
       "    .dataframe tbody tr th {\n",
       "        vertical-align: top;\n",
       "    }\n",
       "\n",
       "    .dataframe thead th {\n",
       "        text-align: right;\n",
       "    }\n",
       "</style>\n",
       "<table border=\"1\" class=\"dataframe\">\n",
       "  <thead>\n",
       "    <tr style=\"text-align: right;\">\n",
       "      <th></th>\n",
       "      <th>Avg_Credit_Limit</th>\n",
       "      <th>Total_visits_online</th>\n",
       "      <th>Total_Credit_Cards</th>\n",
       "      <th>Total_visits_bank</th>\n",
       "      <th>Total_calls_made</th>\n",
       "    </tr>\n",
       "  </thead>\n",
       "  <tbody>\n",
       "    <tr>\n",
       "      <th>0</th>\n",
       "      <td>1.740187</td>\n",
       "      <td>-1.249225</td>\n",
       "      <td>-0.860451</td>\n",
       "      <td>-0.547490</td>\n",
       "      <td>-1.251537</td>\n",
       "    </tr>\n",
       "    <tr>\n",
       "      <th>1</th>\n",
       "      <td>0.410293</td>\n",
       "      <td>-0.787585</td>\n",
       "      <td>-1.473731</td>\n",
       "      <td>2.520519</td>\n",
       "      <td>1.891859</td>\n",
       "    </tr>\n",
       "    <tr>\n",
       "      <th>2</th>\n",
       "      <td>0.410293</td>\n",
       "      <td>1.058973</td>\n",
       "      <td>-0.860451</td>\n",
       "      <td>0.134290</td>\n",
       "      <td>0.145528</td>\n",
       "    </tr>\n",
       "    <tr>\n",
       "      <th>3</th>\n",
       "      <td>-0.121665</td>\n",
       "      <td>0.135694</td>\n",
       "      <td>-0.860451</td>\n",
       "      <td>-0.547490</td>\n",
       "      <td>0.145528</td>\n",
       "    </tr>\n",
       "    <tr>\n",
       "      <th>4</th>\n",
       "      <td>1.740187</td>\n",
       "      <td>0.597334</td>\n",
       "      <td>-1.473731</td>\n",
       "      <td>3.202298</td>\n",
       "      <td>-0.203739</td>\n",
       "    </tr>\n",
       "    <tr>\n",
       "      <th>...</th>\n",
       "      <td>...</td>\n",
       "      <td>...</td>\n",
       "      <td>...</td>\n",
       "      <td>...</td>\n",
       "      <td>...</td>\n",
       "    </tr>\n",
       "    <tr>\n",
       "      <th>655</th>\n",
       "      <td>1.713589</td>\n",
       "      <td>2.443892</td>\n",
       "      <td>-0.860451</td>\n",
       "      <td>2.520519</td>\n",
       "      <td>-1.251537</td>\n",
       "    </tr>\n",
       "    <tr>\n",
       "      <th>656</th>\n",
       "      <td>1.314621</td>\n",
       "      <td>2.443892</td>\n",
       "      <td>-0.860451</td>\n",
       "      <td>3.543188</td>\n",
       "      <td>-0.553005</td>\n",
       "    </tr>\n",
       "    <tr>\n",
       "      <th>657</th>\n",
       "      <td>2.937092</td>\n",
       "      <td>1.520613</td>\n",
       "      <td>-0.860451</td>\n",
       "      <td>2.179629</td>\n",
       "      <td>-0.902271</td>\n",
       "    </tr>\n",
       "    <tr>\n",
       "      <th>658</th>\n",
       "      <td>3.655235</td>\n",
       "      <td>2.443892</td>\n",
       "      <td>-0.860451</td>\n",
       "      <td>4.224968</td>\n",
       "      <td>-1.251537</td>\n",
       "    </tr>\n",
       "    <tr>\n",
       "      <th>659</th>\n",
       "      <td>3.522245</td>\n",
       "      <td>1.982253</td>\n",
       "      <td>-1.473731</td>\n",
       "      <td>3.202298</td>\n",
       "      <td>-0.553005</td>\n",
       "    </tr>\n",
       "  </tbody>\n",
       "</table>\n",
       "<p>660 rows × 5 columns</p>\n",
       "</div>"
      ],
      "text/plain": [
       "     Avg_Credit_Limit  Total_visits_online  Total_Credit_Cards  \\\n",
       "0            1.740187            -1.249225           -0.860451   \n",
       "1            0.410293            -0.787585           -1.473731   \n",
       "2            0.410293             1.058973           -0.860451   \n",
       "3           -0.121665             0.135694           -0.860451   \n",
       "4            1.740187             0.597334           -1.473731   \n",
       "..                ...                  ...                 ...   \n",
       "655          1.713589             2.443892           -0.860451   \n",
       "656          1.314621             2.443892           -0.860451   \n",
       "657          2.937092             1.520613           -0.860451   \n",
       "658          3.655235             2.443892           -0.860451   \n",
       "659          3.522245             1.982253           -1.473731   \n",
       "\n",
       "     Total_visits_bank  Total_calls_made  \n",
       "0            -0.547490         -1.251537  \n",
       "1             2.520519          1.891859  \n",
       "2             0.134290          0.145528  \n",
       "3            -0.547490          0.145528  \n",
       "4             3.202298         -0.203739  \n",
       "..                 ...               ...  \n",
       "655           2.520519         -1.251537  \n",
       "656           3.543188         -0.553005  \n",
       "657           2.179629         -0.902271  \n",
       "658           4.224968         -1.251537  \n",
       "659           3.202298         -0.553005  \n",
       "\n",
       "[660 rows x 5 columns]"
      ]
     },
     "execution_count": 20,
     "metadata": {},
     "output_type": "execute_result"
    }
   ],
   "source": [
    "myData_scaled = pd.DataFrame(scaledData, columns=cols)\n",
    "myData_scaled\n",
    "#  Creating dataframe with scaled data from transformed Scaler Object"
   ]
  },
  {
   "cell_type": "markdown",
   "id": "d44033c8",
   "metadata": {},
   "source": [
    "## K-Means Clustering"
   ]
  },
  {
   "cell_type": "code",
   "execution_count": 21,
   "id": "44d71d2a",
   "metadata": {
    "scrolled": true
   },
   "outputs": [
    {
     "name": "stdout",
     "output_type": "stream",
     "text": [
      "Number of Clusters: 1 \tAverage Distortion: 2.0069222262503614\n",
      "Number of Clusters: 2 \tAverage Distortion: 1.4571553548514269\n",
      "Number of Clusters: 3 \tAverage Distortion: 1.1466276549150365\n",
      "Number of Clusters: 4 \tAverage Distortion: 1.0463825294774465\n",
      "Number of Clusters: 5 \tAverage Distortion: 0.9908683849620168\n",
      "Number of Clusters: 6 \tAverage Distortion: 0.9429012903926839\n"
     ]
    }
   ],
   "source": [
    "from sklearn.preprocessing import StandardScaler\n",
    "from scipy.spatial.distance import cdist\n",
    "from scipy.spatial.distance import pdist\n",
    "from sklearn.cluster import KMeans\n",
    "from sklearn.metrics import silhouette_score\n",
    "\n",
    "clusters = range(1,7)\n",
    "meanDistortions = []\n",
    "setting list\n",
    "\n",
    "for k in clusters:\n",
    "    model = KMeans(n_clusters = k)\n",
    "    # Instantiating KMeans Object\n",
    "    model.fit(myData_scaled)\n",
    "    # Fitting KMeans Object to the Scaled Data\n",
    "    prediction = model.predict(myData_scaled)\n",
    "    # Predicitng on the KMeans Object\n",
    "    \n",
    "    distortion = sum(np.min(cdist(myData_scaled, model.cluster_centers_, 'euclidean'), axis=1)) / myData_scaled.shape[0]\n",
    "    #capturing distortion with each K cluster\n",
    "\n",
    "    meanDistortions.append(distortion)\n",
    "    #Adding to list\n",
    "\n",
    "    print('Number of Clusters:', k, '\\tAverage Distortion:', distortion)"
   ]
  },
  {
   "cell_type": "markdown",
   "id": "b9413066",
   "metadata": {},
   "source": [
    "### Observations - Average Distortion\n",
    "- The ideal seems to be somewhere between 2 and 4 by just looking at the Average Distortion."
   ]
  },
  {
   "cell_type": "code",
   "execution_count": 22,
   "id": "cf50d1a5",
   "metadata": {
    "scrolled": true
   },
   "outputs": [
    {
     "data": {
      "text/plain": [
       "Text(0.5, 1.0, 'Selecting k with the Elbow Method')"
      ]
     },
     "execution_count": 22,
     "metadata": {},
     "output_type": "execute_result"
    },
    {
     "data": {
      "image/png": "[encoded data removed]",
      "text/plain": [
       "<Figure size 576x396 with 1 Axes>"
      ]
     },
     "metadata": {},
     "output_type": "display_data"
    }
   ],
   "source": [
    "# figure(figsize=(14, 3), dpi=80)\n",
    "plt.plot(clusters, meanDistortions, 'bx-')\n",
    "plt.xlabel('k')\n",
    "plt.ylabel('Average Distortion')\n",
    "plt.title('Selecting k with the Elbow Method', fontsize=20)"
   ]
  },
  {
   "cell_type": "markdown",
   "id": "40274844",
   "metadata": {},
   "source": [
    "### Observation - Average Distortion\n",
    "- The ideal K for the Elbow Curve appears to be at 3. From 4 to 6 the value of adding and additional unit appears to steadily decrease."
   ]
  },
  {
   "cell_type": "code",
   "execution_count": 23,
   "id": "0c7df440",
   "metadata": {},
   "outputs": [
    {
     "data": {
      "text/plain": [
       "KMeans(n_clusters=3, random_state=101)"
      ]
     },
     "execution_count": 23,
     "metadata": {},
     "output_type": "execute_result"
    }
   ],
   "source": [
    "K3model = KMeans(n_clusters = 3, random_state=101)\n",
    "K3model.fit(myData_scaled)\n",
    "# Instantiating, fiting & predicting for KMeans Object 3 clusters"
   ]
  },
  {
   "cell_type": "code",
   "execution_count": 24,
   "id": "7e26630a",
   "metadata": {},
   "outputs": [],
   "source": [
    "myData_raw['K3_ClientProfile'] = K3model.labels_"
   ]
  },
  {
   "cell_type": "code",
   "execution_count": 25,
   "id": "91c4297b",
   "metadata": {},
   "outputs": [],
   "source": [
    "myK3_ClientProfile = myData_raw.groupby('K3_ClientProfile').mean()"
   ]
  },
  {
   "cell_type": "code",
   "execution_count": 26,
   "id": "d4731a32",
   "metadata": {},
   "outputs": [
    {
     "data": {
      "text/html": [
       "<div>\n",
       "<style scoped>\n",
       "    .dataframe tbody tr th:only-of-type {\n",
       "        vertical-align: middle;\n",
       "    }\n",
       "\n",
       "    .dataframe tbody tr th {\n",
       "        vertical-align: top;\n",
       "    }\n",
       "\n",
       "    .dataframe thead th {\n",
       "        text-align: right;\n",
       "    }\n",
       "</style>\n",
       "<table border=\"1\" class=\"dataframe\">\n",
       "  <thead>\n",
       "    <tr style=\"text-align: right;\">\n",
       "      <th></th>\n",
       "      <th>Avg_Credit_Limit</th>\n",
       "      <th>Total_Credit_Cards</th>\n",
       "      <th>Total_visits_bank</th>\n",
       "      <th>Total_visits_online</th>\n",
       "      <th>Total_calls_made</th>\n",
       "      <th>population_segment_count</th>\n",
       "    </tr>\n",
       "    <tr>\n",
       "      <th>K3_ClientProfile</th>\n",
       "      <th></th>\n",
       "      <th></th>\n",
       "      <th></th>\n",
       "      <th></th>\n",
       "      <th></th>\n",
       "      <th></th>\n",
       "    </tr>\n",
       "  </thead>\n",
       "  <tbody>\n",
       "    <tr>\n",
       "      <th>0</th>\n",
       "      <td>33782.383420</td>\n",
       "      <td>5.515544</td>\n",
       "      <td>3.489637</td>\n",
       "      <td>0.981865</td>\n",
       "      <td>2.000000</td>\n",
       "      <td>386</td>\n",
       "    </tr>\n",
       "    <tr>\n",
       "      <th>1</th>\n",
       "      <td>12174.107143</td>\n",
       "      <td>2.410714</td>\n",
       "      <td>0.933036</td>\n",
       "      <td>3.553571</td>\n",
       "      <td>6.870536</td>\n",
       "      <td>224</td>\n",
       "    </tr>\n",
       "    <tr>\n",
       "      <th>2</th>\n",
       "      <td>141040.000000</td>\n",
       "      <td>8.740000</td>\n",
       "      <td>0.600000</td>\n",
       "      <td>10.900000</td>\n",
       "      <td>1.080000</td>\n",
       "      <td>50</td>\n",
       "    </tr>\n",
       "  </tbody>\n",
       "</table>\n",
       "</div>"
      ],
      "text/plain": [
       "                  Avg_Credit_Limit  Total_Credit_Cards  Total_visits_bank  \\\n",
       "K3_ClientProfile                                                            \n",
       "0                     33782.383420            5.515544           3.489637   \n",
       "1                     12174.107143            2.410714           0.933036   \n",
       "2                    141040.000000            8.740000           0.600000   \n",
       "\n",
       "                  Total_visits_online  Total_calls_made  \\\n",
       "K3_ClientProfile                                          \n",
       "0                            0.981865          2.000000   \n",
       "1                            3.553571          6.870536   \n",
       "2                           10.900000          1.080000   \n",
       "\n",
       "                  population_segment_count  \n",
       "K3_ClientProfile                            \n",
       "0                                      386  \n",
       "1                                      224  \n",
       "2                                       50  "
      ]
     },
     "execution_count": 26,
     "metadata": {},
     "output_type": "execute_result"
    }
   ],
   "source": [
    "myK3_ClientProfile['population_segment_count'] = myData_raw.groupby('K3_ClientProfile')['Avg_Credit_Limit'].count().values\n",
    "myK3_ClientProfile"
   ]
  },
  {
   "cell_type": "code",
   "execution_count": 27,
   "id": "af42ac95",
   "metadata": {
    "scrolled": true
   },
   "outputs": [
    {
     "data": {
      "image/png": "[encoded data removed]",
      "text/plain": [
       "<Figure size 540x360 with 1 Axes>"
      ]
     },
     "metadata": {},
     "output_type": "display_data"
    },
    {
     "data": {
      "image/png": "[encoded data removed]",
      "text/plain": [
       "<Figure size 540x360 with 1 Axes>"
      ]
     },
     "metadata": {},
     "output_type": "display_data"
    },
    {
     "data": {
      "image/png": "[encoded data removed]",
      "text/plain": [
       "<Figure size 540x360 with 1 Axes>"
      ]
     },
     "metadata": {},
     "output_type": "display_data"
    },
    {
     "data": {
      "image/png": "[encoded data removed]",
      "text/plain": [
       "<Figure size 540x360 with 1 Axes>"
      ]
     },
     "metadata": {},
     "output_type": "display_data"
    },
    {
     "data": {
      "image/png": "[encoded data removed]",
      "text/plain": [
       "<Figure size 540x360 with 1 Axes>"
      ]
     },
     "metadata": {},
     "output_type": "display_data"
    }
   ],
   "source": [
    "for i in range(5):\n",
    "    figure(figsize=(9, 6), dpi=60)\n",
    "    # sns.boxplot(x=myData_raw[cols[i]])\n",
    "    sns.boxplot(y=myData_raw[cols[i]],x=myData_raw['K3_ClientProfile'])\n",
    "    plt.show()"
   ]
  },
  {
   "cell_type": "markdown",
   "id": "fbf3820f",
   "metadata": {},
   "source": [
    "### Insights\n",
    "\n",
    "*Clusters Analysis*\n",
    "We dont have age demographic data but considering the features, I believe the features I previously labeled interactions may indicate what age group the customers are likely to be in. Below are my perscribed labels and the analysis supporting the labels.\n",
    "\n",
    "\n",
    " - **Cluster 0** : *Baby Boomers*\n",
    "     - Avg_Credit_Limit is average to low but has large spread with the media at about 3K.\n",
    "     - Total_visits_online for this customer segment is very low, some don't even use it.\n",
    "     - This segment tends to have from 4 to 6 cards.\n",
    "     - The customers in this segment visit the Bank in person more than any other group.\n",
    "     - Total_calls_made for this customer profile is low with some calling two times.\n",
    "\n",
    "\n",
    " - **Cluster 1** : *Generation X*\n",
    "    - Avg_Credit_Limit in this cluster is very very low and does not have much spread. \n",
    "        - Just about all in this segment have less than 2.5K with one exception which is an outlier at 5K.\n",
    "    - Total_visits_online is low.\n",
    "        - Again, there is one outlier in this segmentation.\n",
    "    - This cluster of customers have very low amount of Total_Credit_Cards with the maximum at 4 cards and the median at 2 cards.\n",
    "    - Total_visits_bank are anywhere from 0 to 2\n",
    "    - This customer segment is the one to call the most and have the largest spread of Total_calls_made with most making 7 calls\n",
    "\n",
    "\n",
    " - **Cluster 2** : *Millennials*\n",
    "    - Avg_Credit_Limit is the highest in this segment. The spread is large but even the lowest average credit limit in this client base is the higher than the median in any other cluster. \n",
    "    - This segment is the highest 10 being the max and the median around 11 for Total_visits_online \n",
    "    - With Total_Credit_Cards, again, this segment is the highest 10 being the max and the median around 9.\n",
    "    - This customer segment has a 1 Total_visits_bank count.\n",
    "    - Total_calls_made is the lowest in this customer profile of the 3 segments."
   ]
  },
  {
   "cell_type": "markdown",
   "id": "377987ea",
   "metadata": {},
   "source": [
    "## Hierarchical Clustering"
   ]
  },
  {
   "cell_type": "markdown",
   "id": "baf528f8",
   "metadata": {},
   "source": [
    "#### Create Linkage Object"
   ]
  },
  {
   "cell_type": "code",
   "execution_count": 28,
   "id": "e0d541e6",
   "metadata": {
    "scrolled": true
   },
   "outputs": [],
   "source": [
    "from scipy.cluster.hierarchy import linkage, cophenet, dendrogram"
   ]
  },
  {
   "cell_type": "code",
   "execution_count": 29,
   "id": "82790de8",
   "metadata": {},
   "outputs": [
    {
     "name": "stdout",
     "output_type": "stream",
     "text": [
      "c_AVERAGE  0.8977080867389372\n",
      "c_CENTROID  0.8939385846326323\n",
      "c_COMPLETE  0.8599730607972423\n",
      "c_SINGLE  0.7391220243806552\n",
      "c_WARD  0.7415156284827493\n"
     ]
    }
   ],
   "source": [
    "methods=[\"AVERAGE\", \"CENTROID\", \"COMPLETE\", \"SINGLE\", \"WARD\"]\n",
    "df_linkage=[]\n",
    "# for organizing models\n",
    "\n",
    "linkageObject_average = linkage(y=myData_scaled, method='average', metric='euclidean')\n",
    "linkageObject_centroid = linkage(y=myData_scaled, method='centroid', metric='euclidean')\n",
    "linkageObject_complete = linkage(y=myData_scaled, method='complete', metric='euclidean')\n",
    "linkageObject_single = linkage(y=myData_scaled, method='single', metric='euclidean')\n",
    "linkageObject_ward = linkage(y=myData_scaled, method='ward', metric='euclidean')\n",
    "# Instantiating Linkage Object to be able to plot the Dendrogram\n",
    "\n",
    "df_linkage.append(linkageObject_average)\n",
    "df_linkage.append(linkageObject_centroid)\n",
    "df_linkage.append(linkageObject_complete)\n",
    "df_linkage.append(linkageObject_single)\n",
    "df_linkage.append(linkageObject_ward)\n",
    "# Adding to list\n",
    "\n",
    "c_AVERAGE, coph_dists_AVERAGE = cophenet(linkageObject_average , pdist(myData_scaled))\n",
    "c_CENTROID, coph_dists_CENTROID = cophenet(linkageObject_centroid , pdist(myData_scaled))\n",
    "c_COMPLETE, coph_dists_COMPLETE = cophenet(linkageObject_complete , pdist(myData_scaled))\n",
    "c_SINGLE, coph_dists_SINGLE = cophenet(linkageObject_single , pdist(myData_scaled))\n",
    "c_WARD, coph_dists_WARD = cophenet(linkageObject_ward , pdist(myData_scaled))\n",
    "# Calculated cophenet coefficients\n",
    "\n",
    "print('c_AVERAGE ', c_AVERAGE)\n",
    "print('c_CENTROID ', c_CENTROID)\n",
    "print('c_COMPLETE ', c_COMPLETE)\n",
    "print('c_SINGLE ', c_SINGLE)\n",
    "print('c_WARD ', c_WARD)"
   ]
  },
  {
   "cell_type": "markdown",
   "id": "ab54ba51",
   "metadata": {},
   "source": [
    "### Observations\n",
    " - AVERAGE linkage is the best method at 0.8977 with CENTROID right behind at 0.8939"
   ]
  },
  {
   "cell_type": "markdown",
   "id": "11c226f2",
   "metadata": {},
   "source": [
    "## Plot Dendrogram"
   ]
  },
  {
   "cell_type": "code",
   "execution_count": 31,
   "id": "ed6daab5",
   "metadata": {},
   "outputs": [],
   "source": [
    "t = '~'*25\n",
    "myP = 5"
   ]
  },
  {
   "cell_type": "code",
   "execution_count": 32,
   "id": "cde3b82d",
   "metadata": {},
   "outputs": [
    {
     "name": "stdout",
     "output_type": "stream",
     "text": [
      "~~~~~~~~~~~~~~~~~~~~~~~~~  [  AVERAGE  ]  ~~~~~~~~~~~~~~~~~~~~~~~~~\n"
     ]
    },
    {
     "data": {
      "image/png": "[encoded data removed]",
      "text/plain": [
       "<Figure size 840x360 with 1 Axes>"
      ]
     },
     "metadata": {},
     "output_type": "display_data"
    }
   ],
   "source": [
    "i=0\n",
    "print(t,\" [ \",methods[i],\" ] \",t)\n",
    "figure(figsize=(14, 6), dpi=60)\n",
    "dendrogram(df_linkage[i],truncate_mode='lastp', p=myP)\n",
    "plt.show()"
   ]
  },
  {
   "cell_type": "markdown",
   "id": "3d37f6cc",
   "metadata": {},
   "source": [
    "# Clustering the Data"
   ]
  },
  {
   "cell_type": "code",
   "execution_count": 33,
   "id": "0f7c55be",
   "metadata": {},
   "outputs": [],
   "source": [
    "from scipy.cluster.hierarchy import fcluster"
   ]
  },
  {
   "cell_type": "code",
   "execution_count": 34,
   "id": "7fd83c0b",
   "metadata": {},
   "outputs": [],
   "source": [
    "max_d = 3\n",
    "# setting level\n",
    "\n",
    "HClusters = fcluster(Z=linkageObject_average, t=max_d, criterion='distance')\n",
    "# Instantiating fcluster object based on Linkage Object"
   ]
  },
  {
   "cell_type": "code",
   "execution_count": 35,
   "id": "cd3f3dc7",
   "metadata": {},
   "outputs": [],
   "source": [
    "myData_raw['HCluster_ClientProfile'] = HClusters\n",
    "# Adding Clusters to dataframe"
   ]
  },
  {
   "cell_type": "code",
   "execution_count": 36,
   "id": "6614bc8a",
   "metadata": {},
   "outputs": [],
   "source": [
    "myK3_ClientProfile = myData_raw.groupby('HCluster_ClientProfile').mean()\n",
    "# Grouping Clusters in dataframe"
   ]
  },
  {
   "cell_type": "code",
   "execution_count": 37,
   "id": "f056f347",
   "metadata": {},
   "outputs": [
    {
     "data": {
      "text/html": [
       "<div>\n",
       "<style scoped>\n",
       "    .dataframe tbody tr th:only-of-type {\n",
       "        vertical-align: middle;\n",
       "    }\n",
       "\n",
       "    .dataframe tbody tr th {\n",
       "        vertical-align: top;\n",
       "    }\n",
       "\n",
       "    .dataframe thead th {\n",
       "        text-align: right;\n",
       "    }\n",
       "</style>\n",
       "<table border=\"1\" class=\"dataframe\">\n",
       "  <thead>\n",
       "    <tr style=\"text-align: right;\">\n",
       "      <th></th>\n",
       "      <th>Avg_Credit_Limit</th>\n",
       "      <th>Total_Credit_Cards</th>\n",
       "      <th>Total_visits_bank</th>\n",
       "      <th>Total_visits_online</th>\n",
       "      <th>Total_calls_made</th>\n",
       "      <th>K3_ClientProfile</th>\n",
       "      <th>population_segment_count</th>\n",
       "    </tr>\n",
       "    <tr>\n",
       "      <th>HCluster_ClientProfile</th>\n",
       "      <th></th>\n",
       "      <th></th>\n",
       "      <th></th>\n",
       "      <th></th>\n",
       "      <th></th>\n",
       "      <th></th>\n",
       "      <th></th>\n",
       "    </tr>\n",
       "  </thead>\n",
       "  <tbody>\n",
       "    <tr>\n",
       "      <th>1</th>\n",
       "      <td>141040.000000</td>\n",
       "      <td>8.740000</td>\n",
       "      <td>0.600000</td>\n",
       "      <td>10.900000</td>\n",
       "      <td>1.080000</td>\n",
       "      <td>2.000000</td>\n",
       "      <td>50</td>\n",
       "    </tr>\n",
       "    <tr>\n",
       "      <th>2</th>\n",
       "      <td>12197.309417</td>\n",
       "      <td>2.403587</td>\n",
       "      <td>0.928251</td>\n",
       "      <td>3.560538</td>\n",
       "      <td>6.883408</td>\n",
       "      <td>1.000000</td>\n",
       "      <td>223</td>\n",
       "    </tr>\n",
       "    <tr>\n",
       "      <th>3</th>\n",
       "      <td>33541.450777</td>\n",
       "      <td>5.520725</td>\n",
       "      <td>3.492228</td>\n",
       "      <td>0.984456</td>\n",
       "      <td>2.010363</td>\n",
       "      <td>0.002591</td>\n",
       "      <td>386</td>\n",
       "    </tr>\n",
       "    <tr>\n",
       "      <th>4</th>\n",
       "      <td>100000.000000</td>\n",
       "      <td>2.000000</td>\n",
       "      <td>1.000000</td>\n",
       "      <td>1.000000</td>\n",
       "      <td>0.000000</td>\n",
       "      <td>0.000000</td>\n",
       "      <td>1</td>\n",
       "    </tr>\n",
       "  </tbody>\n",
       "</table>\n",
       "</div>"
      ],
      "text/plain": [
       "                        Avg_Credit_Limit  Total_Credit_Cards  \\\n",
       "HCluster_ClientProfile                                         \n",
       "1                          141040.000000            8.740000   \n",
       "2                           12197.309417            2.403587   \n",
       "3                           33541.450777            5.520725   \n",
       "4                          100000.000000            2.000000   \n",
       "\n",
       "                        Total_visits_bank  Total_visits_online  \\\n",
       "HCluster_ClientProfile                                           \n",
       "1                                0.600000            10.900000   \n",
       "2                                0.928251             3.560538   \n",
       "3                                3.492228             0.984456   \n",
       "4                                1.000000             1.000000   \n",
       "\n",
       "                        Total_calls_made  K3_ClientProfile  \\\n",
       "HCluster_ClientProfile                                       \n",
       "1                               1.080000          2.000000   \n",
       "2                               6.883408          1.000000   \n",
       "3                               2.010363          0.002591   \n",
       "4                               0.000000          0.000000   \n",
       "\n",
       "                        population_segment_count  \n",
       "HCluster_ClientProfile                            \n",
       "1                                             50  \n",
       "2                                            223  \n",
       "3                                            386  \n",
       "4                                              1  "
      ]
     },
     "execution_count": 37,
     "metadata": {},
     "output_type": "execute_result"
    }
   ],
   "source": [
    "myK3_ClientProfile['population_segment_count'] = myData_raw.groupby('HCluster_ClientProfile')['Avg_Credit_Limit'].count().values\n",
    "# Adding unique values to count segmented population\n",
    "\n",
    "myK3_ClientProfile\n",
    "# Display"
   ]
  },
  {
   "cell_type": "code",
   "execution_count": 38,
   "id": "0cba243c",
   "metadata": {
    "scrolled": true
   },
   "outputs": [
    {
     "data": {
      "image/png": "[encoded data removed]",
      "text/plain": [
       "<Figure size 540x900 with 1 Axes>"
      ]
     },
     "metadata": {},
     "output_type": "display_data"
    },
    {
     "data": {
      "image/png": "[encoded data removed]",
      "text/plain": [
       "<Figure size 540x900 with 1 Axes>"
      ]
     },
     "metadata": {},
     "output_type": "display_data"
    },
    {
     "data": {
      "image/png": "[encoded data removed]",
      "text/plain": [
       "<Figure size 540x900 with 1 Axes>"
      ]
     },
     "metadata": {},
     "output_type": "display_data"
    },
    {
     "data": {
      "image/png": "[encoded data removed]",
      "text/plain": [
       "<Figure size 540x900 with 1 Axes>"
      ]
     },
     "metadata": {},
     "output_type": "display_data"
    },
    {
     "data": {
      "image/png": "[encoded data removed]",
      "text/plain": [
       "<Figure size 540x900 with 1 Axes>"
      ]
     },
     "metadata": {},
     "output_type": "display_data"
    }
   ],
   "source": [
    "for i in range(5):\n",
    "    figure(figsize=(9, 15), dpi=60)\n",
    "    # sns.boxplot(x=myData_raw[cols[i]])\n",
    "    sns.boxplot(y=myData_raw[cols[i]],x=myData_raw['HCluster_ClientProfile'])\n",
    "    plt.show()"
   ]
  },
  {
   "cell_type": "markdown",
   "id": "f4910d4b",
   "metadata": {},
   "source": [
    "### Insights\n",
    "Again same age groupings seem to have appeared with the labels changing order but still similar characteristics.\n",
    "\n",
    " - **Cluster 1** : *Millennials*\n",
    "     - Avg_Credit_Limit is high with large spread.\n",
    "     - This segment is the highest 10 being the max and the median around 11 for Total_visits_online \n",
    "     - This segment tends to have the most cards with at least 5.\n",
    "     - Not many visit the Bank, if at all.\n",
    "     - Total_calls_made for this customer profile is low with most calling just once.\n",
    "\n",
    "\n",
    " - **Cluster 2** : *Generation X*\n",
    "    - Avg_Credit_Limit in low with tight spread & one outlier.\n",
    "    - Total_visits_online is medium.\n",
    "    - This cluster of customers have very low amount of Total_Credit_Cards at 2 cards.\n",
    "    - Total_visits_bank are one 1 with a max of 2.\n",
    "    - This customer segment is the one to call the most and have the largest spread of Total_calls_made.\n",
    "\n",
    "\n",
    " - **Cluster 3** : *Baby Boomers*\n",
    "    - Avg_Credit_Limit large spread of data however it is on the lower end cluster. \n",
    "    - Total_visits_online for this customer segment is very low.\n",
    "    - With Total_Credit_Cards, this segment is between the other two clusters.\n",
    "    - This customer segment has a high Total_visits_bank count with lots of spread. It is much higher than the other two clusters\n",
    "    - Total_calls_made has a median of 2.\n",
    "    \n",
    " - **Cluster 4** : This one is isolated. Not much value in analysis."
   ]
  },
  {
   "cell_type": "markdown",
   "id": "94b86a1d",
   "metadata": {},
   "source": [
    "## Silhouette Scores"
   ]
  },
  {
   "cell_type": "code",
   "execution_count": 39,
   "id": "dfc20891",
   "metadata": {},
   "outputs": [
    {
     "data": {
      "text/plain": [
       "0.5157182558881063"
      ]
     },
     "execution_count": 39,
     "metadata": {},
     "output_type": "execute_result"
    }
   ],
   "source": [
    "from sklearn.metrics import silhouette_score\n",
    "silhouette_score(myData_scaled,myData_raw['K3_ClientProfile'])\n",
    "# silhouette_score"
   ]
  },
  {
   "cell_type": "code",
   "execution_count": 40,
   "id": "844be164",
   "metadata": {},
   "outputs": [
    {
     "data": {
      "text/plain": [
       "0.47495143595793504"
      ]
     },
     "execution_count": 40,
     "metadata": {},
     "output_type": "execute_result"
    }
   ],
   "source": [
    "from sklearn.metrics import silhouette_score\n",
    "silhouette_score(myData_scaled,myData_raw['HCluster_ClientProfile'])\n",
    "# silhouette_score"
   ]
  },
  {
   "cell_type": "markdown",
   "id": "f44061af",
   "metadata": {},
   "source": [
    "#### Observation\n",
    "Based on the silhouette_score, both methods were terrible at clusting the distance. However, the K Means clustering appears to have been more successful by aproximately 4 percent. "
   ]
  },
  {
   "cell_type": "markdown",
   "id": "5569b439",
   "metadata": {},
   "source": [
    "**Business Insights**\n",
    "**Key Questions:**\n",
    "A. How many different segments of customers are there?\n",
    " - Using both models, we were able to segment the customers into three categories.\n",
    "B. How are these segments different from each other?\n",
    " - The segments are distinguished by primarily the method of communication/interaction with the bank via On Premise, Phone and Online.\n",
    "C. What are your recommendations to the bank on how to better market to and service these customers?\n",
    " - The recommendation of how to proceed would be to collect more data if possible as the amount of features were limited. Time data would have also been a useful feature to capture such as how frequent the interactions were.\n",
    " - If the *AllLife Credit Card* chooses to move forward with using the market segmentation, the data appears to represent three categories for which clients appear to be by age group given the aspect of technology (online visits), in person visits (face-to-face) and a mix of in between (phone communications). \n",
    "\n",
    "While Demographic data was not collected, some clear distinctions did appear on interactions.\n",
    "\n",
    "The clients who visited most online tended to call less and very few visit the bank, if at all appear to exhibit interactions consistent with Millennials or those who are tech savvy.\n",
    "\n",
    "The clients who visited the bank the most, occasionally called but very rarely did they go online, if at all but occasionally used the phone. These were the ones that visited the branch the most. The complete opposite, they appear to be tech adverse.\n",
    "\n",
    "The clients who called the most seemed to have a blend of both, however, they overwhelmingly used the phone as the preferred method of communication.\n",
    "\n",
    "\n",
    "**Remedy to the Problem:** To run personalized campaign to target new customers should be to **Generation X** & **Millennials**. These two groups are the least intensive on man hours as they can be mostly satisfied with a phone call or through online means.\n",
    "\n",
    "To upsell to existing customers, the market segmentation should be developed around the **Generation X** & **Baby Boomer**  as this is the largest customer based. In person upselling and building the relationship will likely be the place of most impact.\n",
    "\n",
    "For the Generation X, the bank should have contact with them through face to face, phone and online. This method may be most approriate. \n",
    "\n",
    "By focusing on these three clusters/segmentations and splitting the efforts \n",
    "\n",
    "Having more contact with the client will give the opportunity to build a better business relationship and listen to the client's needs. By having more communication through their preferred method of contact, it will be possible to collect more data on what is the common issue and how issues have been resolved in the past to their satisfaction.\n"
   ]
  }
 ],
 "metadata": {
  "kernelspec": {
   "display_name": "Python 3",
   "language": "python",
   "name": "python3"
  },
  "language_info": {
   "codemirror_mode": {
    "name": "ipython",
    "version": 3
   },
   "file_extension": ".py",
   "mimetype": "text/x-python",
   "name": "python",
   "nbconvert_exporter": "python",
   "pygments_lexer": "ipython3",
   "version": "3.8.5"
  }
 },
 "nbformat": 4,
 "nbformat_minor": 5
}
